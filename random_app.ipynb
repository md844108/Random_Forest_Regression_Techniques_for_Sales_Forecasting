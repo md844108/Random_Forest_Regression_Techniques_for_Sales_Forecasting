{
 "cells": [
  {
   "cell_type": "code",
   "execution_count": 24,
   "id": "196d538f",
   "metadata": {},
   "outputs": [],
   "source": [
    "from numpy import asarray\n",
    "import pandas as pd\n",
    "from pandas import DataFrame\n",
    "from pandas import concat\n",
    "from sklearn.metrics import mean_absolute_error\n",
    "from sklearn.ensemble import RandomForestRegressor\n",
    "from matplotlib import pyplot"
   ]
  },
  {
   "cell_type": "code",
   "execution_count": 2,
   "id": "2e935671",
   "metadata": {},
   "outputs": [],
   "source": [
    "# transform a time series dataset into a supervised learning dataset\n",
    "def series_to_supervised(data, n_in=1, n_out=1, dropnan=True):\n",
    "    n_vars = 1 if type(data) is list else data.shape[1]\n",
    "    df = DataFrame(data)\n",
    "    cols = list()\n",
    "    # input sequence (t-n, ... t-1)\n",
    "    for i in range(n_in, 0, -1):\n",
    "        cols.append(df.shift(i))\n",
    "    # forecast sequence (t, t+1, ... t+n)\n",
    "    for i in range(0, n_out):\n",
    "        cols.append(df.shift(-i))\n",
    "    # put it all together\n",
    "    agg = concat(cols, axis=1)\n",
    "    # drop rows with NaN values\n",
    "    if dropnan:\n",
    "        agg.dropna(inplace=True)\n",
    "    return agg.values"
   ]
  },
  {
   "cell_type": "code",
   "execution_count": 3,
   "id": "d8f4efae",
   "metadata": {},
   "outputs": [],
   "source": [
    "# split a univariate dataset into train/test sets\n",
    "def train_test_split(data, n_test):\n",
    "    return data[:-n_test, :], data[-n_test:, :]"
   ]
  },
  {
   "cell_type": "code",
   "execution_count": 4,
   "id": "35f9da0d",
   "metadata": {},
   "outputs": [],
   "source": [
    "# fit an random forest model and make a one step prediction\n",
    "def random_forest_forecast(train, testX):\n",
    "    # transform list into array\n",
    "    train = asarray(train)\n",
    "    # split into input and output columns\n",
    "    trainX, trainy = train[:, :-1], train[:, -1]\n",
    "    # fit model\n",
    "    model = RandomForestRegressor(n_estimators=1000)\n",
    "    model.fit(trainX, trainy)\n",
    "    # make a one-step prediction\n",
    "    yhat = model.predict([testX])\n",
    "    return yhat[0]"
   ]
  },
  {
   "cell_type": "code",
   "execution_count": 12,
   "id": "5e4d14c1",
   "metadata": {},
   "outputs": [],
   "source": [
    "# walk-forward validation for univariate data\n",
    "def walk_forward_validation(data, n_test):\n",
    "    predictions = list()\n",
    "    # split dataset\n",
    "    train, test = train_test_split(data, n_test)\n",
    "    print(f\"tarin={train}, test={test}\")\n",
    "    # seed history with training dataset\n",
    "    history = [x for x in train]\n",
    "    # step over each time-step in the test set\n",
    "    for i in range(len(test)):\n",
    "        # split test row into input and output columns\n",
    "        testX, testy = test[i, :-1], test[i, -1]\n",
    "        # fit model on history and make a prediction\n",
    "        yhat = random_forest_forecast(history, testX)\n",
    "        # store forecast in list of predictions\n",
    "        predictions.append(yhat)\n",
    "        # add actual observation to history for the next loop\n",
    "        history.append(test[i])\n",
    "        # summarize progress\n",
    "        print('>expected=%.1f, predicted=%.1f' % (testy, yhat))\n",
    "    # estimate prediction error\n",
    "    error = mean_absolute_error(test[:, -1], predictions)\n",
    "    return error, test[:, -1], predictions"
   ]
  },
  {
   "cell_type": "code",
   "execution_count": 39,
   "id": "e2df30e0",
   "metadata": {},
   "outputs": [
    {
     "name": "stdout",
     "output_type": "stream",
     "text": [
      "[[122497.  66030. 247156. 203258. 164263. 206064. 220986.]\n",
      " [ 66030. 247156. 203258. 164263. 206064. 220986. 230161.]\n",
      " [247156. 203258. 164263. 206064. 220986. 230161. 382200.]\n",
      " [203258. 164263. 206064. 220986. 230161. 382200. 241726.]\n",
      " [164263. 206064. 220986. 230161. 382200. 241726. 480979.]\n",
      " [206064. 220986. 230161. 382200. 241726. 480979. 410279.]\n",
      " [220986. 230161. 382200. 241726. 480979. 410279.  89009.]\n",
      " [230161. 382200. 241726. 480979. 410279.  89009.  90823.]\n",
      " [382200. 241726. 480979. 410279.  89009.  90823. 212164.]\n",
      " [241726. 480979. 410279.  89009.  90823. 212164. 237272.]\n",
      " [480979. 410279.  89009.  90823. 212164. 237272. 222722.]\n",
      " [410279.  89009.  90823. 212164. 237272. 222722. 205388.]\n",
      " [ 89009.  90823. 212164. 237272. 222722. 205388. 215776.]\n",
      " [ 90823. 212164. 237272. 222722. 205388. 215776. 229543.]\n",
      " [212164. 237272. 222722. 205388. 215776. 229543. 429658.]\n",
      " [237272. 222722. 205388. 215776. 229543. 429658. 249639.]\n",
      " [222722. 205388. 215776. 229543. 429658. 249639. 477720.]\n",
      " [205388. 215776. 229543. 429658. 249639. 477720. 472245.]\n",
      " [215776. 229543. 429658. 249639. 477720. 472245. 131727.]\n",
      " [229543. 429658. 249639. 477720. 472245. 131727. 132982.]\n",
      " [429658. 249639. 477720. 472245. 131727. 132982. 238956.]\n",
      " [249639. 477720. 472245. 131727. 132982. 238956. 247773.]\n",
      " [477720. 472245. 131727. 132982. 238956. 247773. 332524.]\n",
      " [472245. 131727. 132982. 238956. 247773. 332524. 291454.]\n",
      " [131727. 132982. 238956. 247773. 332524. 291454. 315531.]\n",
      " [132982. 238956. 247773. 332524. 291454. 315531. 256089.]\n",
      " [238956. 247773. 332524. 291454. 315531. 256089. 546728.]\n",
      " [247773. 332524. 291454. 315531. 256089. 546728. 308026.]\n",
      " [332524. 291454. 315531. 256089. 546728. 308026. 550561.]\n",
      " [291454. 315531. 256089. 546728. 308026. 550561. 518307.]\n",
      " [315531. 256089. 546728. 308026. 550561. 518307. 234739.]\n",
      " [256089. 546728. 308026. 550561. 518307. 234739. 166267.]\n",
      " [546728. 308026. 550561. 518307. 234739. 166267. 355704.]\n",
      " [308026. 550561. 518307. 234739. 166267. 355704. 310150.]\n",
      " [550561. 518307. 234739. 166267. 355704. 310150. 367411.]\n",
      " [518307. 234739. 166267. 355704. 310150. 367411. 354902.]\n",
      " [234739. 166267. 355704. 310150. 367411. 354902. 337092.]\n",
      " [166267. 355704. 310150. 367411. 354902. 337092. 331014.]\n",
      " [355704. 310150. 367411. 354902. 337092. 331014. 705680.]\n",
      " [310150. 367411. 354902. 337092. 331014. 705680. 443898.]\n",
      " [367411. 354902. 337092. 331014. 705680. 443898. 683410.]\n",
      " [354902. 337092. 331014. 705680. 443898. 683410. 687245.]]\n"
     ]
    }
   ],
   "source": [
    "# load the dataset\n",
    "series = pd.read_csv('retails.csv', header=0, index_col=0)\n",
    "#series1 = series['Sales']\n",
    "series.set_index('Order Date',inplace=True)\n",
    "#print(series1)\n",
    "#print(series)\n",
    "values = series.values\n",
    "#print(values)\n",
    "#transform the time series data into supervised learning\n",
    "data = series_to_supervised(values, n_in=6)\n",
    "print(data)"
   ]
  },
  {
   "cell_type": "code",
   "execution_count": 40,
   "id": "03710d44",
   "metadata": {},
   "outputs": [
    {
     "name": "stdout",
     "output_type": "stream",
     "text": [
      "tarin=[[122497.  66030. 247156. 203258. 164263. 206064. 220986.]\n",
      " [ 66030. 247156. 203258. 164263. 206064. 220986. 230161.]\n",
      " [247156. 203258. 164263. 206064. 220986. 230161. 382200.]\n",
      " [203258. 164263. 206064. 220986. 230161. 382200. 241726.]\n",
      " [164263. 206064. 220986. 230161. 382200. 241726. 480979.]\n",
      " [206064. 220986. 230161. 382200. 241726. 480979. 410279.]\n",
      " [220986. 230161. 382200. 241726. 480979. 410279.  89009.]\n",
      " [230161. 382200. 241726. 480979. 410279.  89009.  90823.]\n",
      " [382200. 241726. 480979. 410279.  89009.  90823. 212164.]\n",
      " [241726. 480979. 410279.  89009.  90823. 212164. 237272.]\n",
      " [480979. 410279.  89009.  90823. 212164. 237272. 222722.]\n",
      " [410279.  89009.  90823. 212164. 237272. 222722. 205388.]\n",
      " [ 89009.  90823. 212164. 237272. 222722. 205388. 215776.]\n",
      " [ 90823. 212164. 237272. 222722. 205388. 215776. 229543.]\n",
      " [212164. 237272. 222722. 205388. 215776. 229543. 429658.]\n",
      " [237272. 222722. 205388. 215776. 229543. 429658. 249639.]\n",
      " [222722. 205388. 215776. 229543. 429658. 249639. 477720.]\n",
      " [205388. 215776. 229543. 429658. 249639. 477720. 472245.]\n",
      " [215776. 229543. 429658. 249639. 477720. 472245. 131727.]\n",
      " [229543. 429658. 249639. 477720. 472245. 131727. 132982.]\n",
      " [429658. 249639. 477720. 472245. 131727. 132982. 238956.]\n",
      " [249639. 477720. 472245. 131727. 132982. 238956. 247773.]\n",
      " [477720. 472245. 131727. 132982. 238956. 247773. 332524.]\n",
      " [472245. 131727. 132982. 238956. 247773. 332524. 291454.]\n",
      " [131727. 132982. 238956. 247773. 332524. 291454. 315531.]\n",
      " [132982. 238956. 247773. 332524. 291454. 315531. 256089.]\n",
      " [238956. 247773. 332524. 291454. 315531. 256089. 546728.]\n",
      " [247773. 332524. 291454. 315531. 256089. 546728. 308026.]\n",
      " [332524. 291454. 315531. 256089. 546728. 308026. 550561.]\n",
      " [291454. 315531. 256089. 546728. 308026. 550561. 518307.]], test=[[315531. 256089. 546728. 308026. 550561. 518307. 234739.]\n",
      " [256089. 546728. 308026. 550561. 518307. 234739. 166267.]\n",
      " [546728. 308026. 550561. 518307. 234739. 166267. 355704.]\n",
      " [308026. 550561. 518307. 234739. 166267. 355704. 310150.]\n",
      " [550561. 518307. 234739. 166267. 355704. 310150. 367411.]\n",
      " [518307. 234739. 166267. 355704. 310150. 367411. 354902.]\n",
      " [234739. 166267. 355704. 310150. 367411. 354902. 337092.]\n",
      " [166267. 355704. 310150. 367411. 354902. 337092. 331014.]\n",
      " [355704. 310150. 367411. 354902. 337092. 331014. 705680.]\n",
      " [310150. 367411. 354902. 337092. 331014. 705680. 443898.]\n",
      " [367411. 354902. 337092. 331014. 705680. 443898. 683410.]\n",
      " [354902. 337092. 331014. 705680. 443898. 683410. 687245.]]\n",
      ">expected=234739.0, predicted=298167.6\n",
      ">expected=166267.0, predicted=377964.2\n",
      ">expected=355704.0, predicted=216667.9\n",
      ">expected=310150.0, predicted=248497.6\n",
      ">expected=367411.0, predicted=387213.2\n",
      ">expected=354902.0, predicted=380192.2\n",
      ">expected=337092.0, predicted=378593.1\n",
      ">expected=331014.0, predicted=380191.8\n",
      ">expected=705680.0, predicted=361388.6\n",
      ">expected=443898.0, predicted=424817.7\n",
      ">expected=683410.0, predicted=367820.9\n",
      ">expected=687245.0, predicted=499462.6\n",
      "MAE: 123194.077\n"
     ]
    }
   ],
   "source": [
    "# evaluate\n",
    "mae, y, yhat = walk_forward_validation(data, 12)\n",
    "print('MAE: %.3f' % mae)"
   ]
  },
  {
   "cell_type": "code",
   "execution_count": 41,
   "id": "bd468a37",
   "metadata": {},
   "outputs": [
    {
     "name": "stdout",
     "output_type": "stream",
     "text": [
      "[234739. 166267. 355704. 310150. 367411. 354902. 337092. 331014. 705680.\n",
      " 443898. 683410. 687245.]\n",
      "[298167.566, 377964.243, 216667.851, 248497.577, 387213.168, 380192.232, 378593.065, 380191.826, 361388.593, 424817.651, 367820.917, 499462.584]\n"
     ]
    }
   ],
   "source": [
    "print(y)\n",
    "print(yhat)"
   ]
  },
  {
   "cell_type": "code",
   "execution_count": 42,
   "id": "a710dd23",
   "metadata": {},
   "outputs": [
    {
     "data": {
      "image/png": "[encoded data removed]",
      "text/plain": [
       "<Figure size 640x480 with 1 Axes>"
      ]
     },
     "metadata": {},
     "output_type": "display_data"
    }
   ],
   "source": [
    "# plot expected vs predicted\n",
    "pyplot.plot(y, label='Expected')\n",
    "pyplot.plot(yhat, label='Predicted')\n",
    "pyplot.legend()\n",
    "pyplot.show()"
   ]
  },
  {
   "cell_type": "code",
   "execution_count": 43,
   "id": "961436bb",
   "metadata": {},
   "outputs": [
    {
     "name": "stdout",
     "output_type": "stream",
     "text": [
      "123194.07724999999\n"
     ]
    }
   ],
   "source": [
    "print(mae)"
   ]
  },
  {
   "cell_type": "code",
   "execution_count": null,
   "id": "540d2887",
   "metadata": {},
   "outputs": [],
   "source": []
  }
 ],
 "metadata": {
  "kernelspec": {
   "display_name": "Python 3 (ipykernel)",
   "language": "python",
   "name": "python3"
  },
  "language_info": {
   "codemirror_mode": {
    "name": "ipython",
    "version": 3
   },
   "file_extension": ".py",
   "mimetype": "text/x-python",
   "name": "python",
   "nbconvert_exporter": "python",
   "pygments_lexer": "ipython3",
   "version": "3.10.9"
  }
 },
 "nbformat": 4,
 "nbformat_minor": 5
}
